{
 "cells": [
  {
   "cell_type": "code",
   "execution_count": 2,
   "metadata": {},
   "outputs": [
    {
     "data": {
      "text/plain": [
       "[0, 0, 0, 0, 1, 2, 3, 4, 0, 1, 2, 3, 0, 1, 2, 3]"
      ]
     },
     "execution_count": 2,
     "metadata": {},
     "output_type": "execute_result"
    }
   ],
   "source": [
    "#KMP算法求匹配子串的next数组:记录失配时往前跳转应到的与当前匹配结果的后缀相同的最长前缀子串的下一个位置\n",
    "def get_next(s):\n",
    "    next = [0]*len(s)\n",
    "    for i in range(1,len(s)):\n",
    "        k = next[i-1]\n",
    "        while (s[i] != s[k] and k != 0):\n",
    "            k = next[k-1]\n",
    "        next[i] = k+1 if s[i] == s[k] else 0\n",
    "    return next\n",
    "get_next('sdfnsdfnnsdfasdf')"
   ]
  },
  {
   "cell_type": "code",
   "execution_count": 1,
   "metadata": {
    "collapsed": true
   },
   "outputs": [],
   "source": [
    "class node(object):\n",
    "    def __init__(self):\n",
    "        self.next = {}       #Tire树的下一个节点\n",
    "        self.fail = None     #失配指针\n",
    "        self.isWord = False  #目前路径是否为单词\n",
    "        self.word = ''       #当前的单词\n",
    "\n",
    "class ac_automation(object):\n",
    "    def __init__(self):\n",
    "        self.root = node()\n",
    "        \n",
    "    #创建字典树\n",
    "    def add(self, word):\n",
    "        temp_node = self.root\n",
    "        for char in word:\n",
    "            if char not in temp_node.next:\n",
    "                temp_node.next[char] = node() \n",
    "            temp_node = temp_node.next[char]\n",
    "        temp_node.isWord = True\n",
    "        temp_node.wood = word\n",
    "        \n",
    "    #创建fail指针\n",
    "    def make_fail(self):\n",
    "        bfs_queue = [self.root]                      #BFS广搜遍历Tire树\n",
    "        while len(bfs_queue) > 0:\n",
    "            temp = bfs_queue.pop(0)\n",
    "            p = None\n",
    "            for key,value in temp.next.items():\n",
    "                print(key)\n",
    "                if temp == self.root:\n",
    "                    temp.next[key].fail = self.root\n",
    "                else:\n",
    "                    p = temp.fail\n",
    "                    while p is not None:\n",
    "                        if key in p.next:\n",
    "                            temp.next[key].fail = p.fail\n",
    "                            break\n",
    "                        p = p.fail\n",
    "                    if p is None:\n",
    "                        temp.next[key].fail = self.root\n",
    "                bfs_queue.append(temp.next[key])\n",
    "                \n",
    "    #多模式匹配\n",
    "    def search(self, content):\n",
    "        p = self.root\n",
    "        res = []\n",
    "        cur_pos = 0\n",
    "        while cur_pos < len(content):\n",
    "            char = content[cur_pos]\n",
    "            while char in p.next == False and p != self.root:\n",
    "                p = p.fail\n",
    "            p = p.next[char] if char in p.next else self.root\n",
    "            if p.isWord:\n",
    "                res.append(p.word)\n",
    "            cur_pos += 1\n",
    "        return res"
   ]
  },
  {
   "cell_type": "code",
   "execution_count": 3,
   "metadata": {},
   "outputs": [],
   "source": [
    "ac = ac_automation()\n",
    "ac.add('234234')\n",
    "ac.add('2344')"
   ]
  },
  {
   "cell_type": "code",
   "execution_count": null,
   "metadata": {
    "collapsed": true
   },
   "outputs": [],
   "source": []
  }
 ],
 "metadata": {
  "kernelspec": {
   "display_name": "Python 3",
   "language": "python",
   "name": "python3"
  },
  "language_info": {
   "codemirror_mode": {
    "name": "ipython",
    "version": 3
   },
   "file_extension": ".py",
   "mimetype": "text/x-python",
   "name": "python",
   "nbconvert_exporter": "python",
   "pygments_lexer": "ipython3",
   "version": "3.6.2"
  }
 },
 "nbformat": 4,
 "nbformat_minor": 2
}
