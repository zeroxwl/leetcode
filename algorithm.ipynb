{
 "cells": [
  {
   "cell_type": "code",
   "execution_count": 2,
   "metadata": {},
   "outputs": [
    {
     "data": {
      "text/plain": [
       "[0, 0, 0, 0, 1, 2, 3, 4, 0, 1, 2, 3, 0, 1, 2, 3]"
      ]
     },
     "execution_count": 2,
     "metadata": {},
     "output_type": "execute_result"
    }
   ],
   "source": [
    "#KMP算法求匹配子串的next数组:记录失配时往前跳转应到的与当前匹配结果的后缀相同的最长前缀子串的下一个位置\n",
    "def get_next(s):\n",
    "    next = [0]*len(s)\n",
    "    for i in range(1,len(s)):\n",
    "        k = next[i-1]\n",
    "        while (s[i] != s[k] and k != 0):\n",
    "            k = next[k-1]\n",
    "        next[i] = k+1 if s[i] == s[k] else 0\n",
    "    return next\n",
    "get_next('sdfnsdfnnsdfasdf')"
   ]
  },
  {
   "cell_type": "code",
   "execution_count": 119,
   "metadata": {},
   "outputs": [],
   "source": [
    "#定义Tire树结点\n",
    "class node(object):\n",
    "    def __init__(self, char=None, deep=0, father=None):\n",
    "        self.next = {}       #Tire树的下一个节点\n",
    "        self.fail = None     #失配指针\n",
    "        self.isWord = False  #目前路径是否为单词\n",
    "        self.char = char         #当前字符\n",
    "        self.deep = deep         #当前深度（即前缀词的长度）\n",
    "\n",
    "# 改进版AC自动机\n",
    "class ac_automation(object):\n",
    "    def __init__(self):\n",
    "        self.root = node()\n",
    "        \n",
    "    #创建字典树\n",
    "    def add(self, word):\n",
    "        temp_node = self.root\n",
    "        for char in word:\n",
    "            if char not in temp_node.next:\n",
    "                temp_node.next[char] = node(char=char, deep=temp_node.deep+1, father=temp_node) \n",
    "            temp_node = temp_node.next[char]\n",
    "        temp_node.isWord = True\n",
    "        \n",
    "    #创建fail指针（失配指针）\n",
    "    # fail指针的性质：根结点到fail指针指向的结点组成的字符串 是整棵Tire树的所有前缀中 \n",
    "    #                 与 根结点到当前结点组成的字符串 的最长公共部分\n",
    "    def make_fail(self):\n",
    "        bfs_queue = [self.root]       #BFS广搜遍历Tire树\n",
    "        while len(bfs_queue) > 0:\n",
    "            temp = bfs_queue.pop(0)   #当前结点\n",
    "            p = None                  #失配结点\n",
    "            for key,value in temp.next.items():  #遍历子结点，逐层构建fail指针，保持最长公共后缀的性质\n",
    "                if temp == self.root:\n",
    "                    temp.next[key].fail = self.root\n",
    "                else:\n",
    "                    p = temp.fail\n",
    "                    while p is not None:\n",
    "                        if key in p.next:\n",
    "                            temp.next[key].fail = p.next[key]\n",
    "                            break\n",
    "                        p = p.fail\n",
    "                    if p is None:\n",
    "                        temp.next[key].fail = self.root\n",
    "                bfs_queue.append(temp.next[key])\n",
    "                \n",
    "    #多模式匹配：1、查找目标字符串中所有在词典中的子串；2、找出所有完全分词方案；\n",
    "    def search(self, content):\n",
    "#         res = []\n",
    "        f = [[None]*len(content) for i in range(len(content))]  #初始化状态方程\n",
    "    \n",
    "        p = self.root\n",
    "        for i in range(0, len(content)):\n",
    "            char = content[i]\n",
    "            \n",
    "            #查找与 当前以i结尾的前缀子串 在Tire树所有前缀中 最长公共后缀子串\n",
    "            while (char in p.next) == False and p != self.root:\n",
    "                p = p.fail\n",
    "            if (char in p.next):\n",
    "                p = p.next[char]\n",
    "            else:\n",
    "                p = self.root\n",
    "                \n",
    "            #通过失配指针找出所有后缀\n",
    "            temp = p\n",
    "            while temp != self.root:\n",
    "                if temp.isWord:\n",
    "#                     res.append((i-temp.deep+1, i))  #找出所有与词典匹配的子串（可重复但位置不同）\n",
    "                    if f[i-temp.deep+1][i] == None:\n",
    "                        f[i-temp.deep+1][i] = []\n",
    "                    f[i-temp.deep+1][i].append([(i-temp.deep+1, i)])\n",
    "                    if i-temp.deep>=0 and f[0][i-temp.deep] != None:\n",
    "                        if f[0][i] == None:\n",
    "                            f[0][i] = []\n",
    "                        f[0][i] +=  [x + [(i-temp.deep+1,i)] for x in f[0][i-temp.deep]]\n",
    "                temp = temp.fail\n",
    "        return f[0][len(content)-1]"
   ]
  },
  {
   "cell_type": "code",
   "execution_count": 120,
   "metadata": {},
   "outputs": [
    {
     "name": "stdout",
     "output_type": "stream",
     "text": [
      "None\n",
      "[[(0, 4)], [(0, 2), (3, 4)], [(0, 0), (1, 2), (3, 4)]]\n",
      "None\n"
     ]
    }
   ],
   "source": [
    "ac = ac_automation()\n",
    "ac.add('234234')\n",
    "ac.add('232')\n",
    "ac.add('32')\n",
    "ac.add('23232')\n",
    "ac.add('测试')\n",
    "ac.add('我是')\n",
    "ac.add('2')\n",
    "ac.make_fail()\n",
    "\n",
    "print(ac.search('23232342342'))\n",
    "print(ac.search('23232'))\n",
    "print(ac.search('测试12我是好人'))"
   ]
  },
  {
   "cell_type": "code",
   "execution_count": 84,
   "metadata": {},
   "outputs": [
    {
     "data": {
      "text/plain": [
       "[None, None, None, None, None, None, None, None, None, None]"
      ]
     },
     "execution_count": 84,
     "metadata": {},
     "output_type": "execute_result"
    }
   ],
   "source": [
    "[None]*10"
   ]
  },
  {
   "cell_type": "code",
   "execution_count": 118,
   "metadata": {},
   "outputs": [
    {
     "data": {
      "text/plain": [
       "True"
      ]
     },
     "execution_count": 118,
     "metadata": {},
     "output_type": "execute_result"
    }
   ],
   "source": [
    "None is None"
   ]
  },
  {
   "cell_type": "code",
   "execution_count": null,
   "metadata": {
    "collapsed": true
   },
   "outputs": [],
   "source": []
  }
 ],
 "metadata": {
  "kernelspec": {
   "display_name": "Python 3",
   "language": "python",
   "name": "python3"
  },
  "language_info": {
   "codemirror_mode": {
    "name": "ipython",
    "version": 3
   },
   "file_extension": ".py",
   "mimetype": "text/x-python",
   "name": "python",
   "nbconvert_exporter": "python",
   "pygments_lexer": "ipython3",
   "version": "3.6.2"
  }
 },
 "nbformat": 4,
 "nbformat_minor": 2
}
