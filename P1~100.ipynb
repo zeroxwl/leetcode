{
 "cells": [
  {
   "cell_type": "markdown",
   "metadata": {},
   "source": [
    "# 1. 两数之和\n",
    "给定一个整数数组 nums 和一个目标值 target，请你在该数组中找出和为目标值的那 两个 整数，并返回他们的数组下标。\n",
    "你可以假设每种输入只会对应一个答案。但是，你不能重复利用这个数组中同样的元素。\n",
    "\n",
    "示例:\n",
    "给定 nums = [2, 7, 11, 15], target = 9\n",
    "\n",
    "因为 nums[0] + nums[1] = 2 + 7 = 9\n",
    "所以返回 [0, 1]"
   ]
  },
  {
   "cell_type": "code",
   "execution_count": 7,
   "metadata": {},
   "outputs": [
    {
     "name": "stdout",
     "output_type": "stream",
     "text": [
      "[0, 1]\n"
     ]
    }
   ],
   "source": [
    "class Solution:\n",
    "    def twoSum(self, nums, target):\n",
    "        \"\"\"\n",
    "        :type nums: List[int]\n",
    "        :type target: int\n",
    "        :rtype: List[int]\n",
    "        \"\"\"\n",
    "#         nums_dict = {}\n",
    "#         for i,x in enumerate(nums):\n",
    "#             if x in nums_dict:\n",
    "#                 nums_dict[x].append(i)\n",
    "#             else:\n",
    "#                 nums_dict[x] = [i]\n",
    "        \n",
    "#         for i,x in enumerate(nums):\n",
    "#             y = target - nums[i]\n",
    "#             if y in nums_dict:\n",
    "#                 if y != x:\n",
    "#                     return [i, nums_dict[y][0]]\n",
    "#                 else:\n",
    "#                     if len(nums_dict[y])>1:\n",
    "#                         return [nums_dict[y][0], nums_dict[y][1]]\n",
    "\n",
    "        nums_dict = {}\n",
    "        for i,x in enumerate(nums):\n",
    "            y = target-x\n",
    "            if y in nums_dict:\n",
    "                return [nums_dict[y], i]\n",
    "            else:\n",
    "                nums_dict[x] = i\n",
    "        \n",
    "        return None\n",
    "    \n",
    "nums = [2, 7, 11, 15]\n",
    "target = 9\n",
    "print(Solution().twoSum(nums, target))"
   ]
  },
  {
   "cell_type": "markdown",
   "metadata": {},
   "source": [
    "# 2. 两数相加\n",
    "给出两个 非空 的链表用来表示两个非负的整数。其中，它们各自的位数是按照 逆序 的方式存储的，并且它们的每个节点只能存储 一位 数字。\n",
    "\n",
    "如果，我们将这两个数相加起来，则会返回一个新的链表来表示它们的和。\n",
    "\n",
    "您可以假设除了数字 0 之外，这两个数都不会以 0 开头。\n",
    "\n",
    "示例：\n",
    "\n",
    "输入：(2 -> 4 -> 3) + (5 -> 6 -> 4)\n",
    "输出：7 -> 0 -> 8\n",
    "原因：342 + 465 = 807"
   ]
  },
  {
   "cell_type": "code",
   "execution_count": 31,
   "metadata": {},
   "outputs": [
    {
     "name": "stdout",
     "output_type": "stream",
     "text": [
      "0 ->\n",
      "0 ->\n",
      "1 ->\n"
     ]
    }
   ],
   "source": [
    "class ListNode:\n",
    "    def __init__(self, x):\n",
    "        self.val = x\n",
    "        self.next = None\n",
    "        \n",
    "    def print(self):\n",
    "        h = self\n",
    "        while h != None:\n",
    "            print(h.val,'->',)\n",
    "            h = h.next\n",
    "        \n",
    "class Solution:\n",
    "    def addTwoNumbers(self, l1, l2):\n",
    "        \"\"\"\n",
    "        :type l1: ListNode\n",
    "        :type l2: ListNode\n",
    "        :rtype: ListNode\n",
    "        \"\"\"\n",
    "        head, pre = l1, None\n",
    "        inc = 0\n",
    "        while l1 and l2:\n",
    "            x = l1.val + l2.val + inc\n",
    "            l1.val, inc = x%10, x//10\n",
    "            pre, l1, l2 = l1, l1.next, l2.next\n",
    "        l = l1 if l1 else l2\n",
    "        pre.next = l\n",
    "        while l and inc:\n",
    "            x = l.val + inc\n",
    "            l.val, inc = x%10, x//10\n",
    "            pre, l = l, l.next\n",
    "        if inc:\n",
    "            pre.next = ListNode(inc)\n",
    "        return head\n",
    "\n",
    "def make(d):\n",
    "    pre, d = ListNode(d%10), d//10\n",
    "    head = pre\n",
    "    while d>0:\n",
    "        new = ListNode(d%10)\n",
    "        pre.next, pre  = new, new\n",
    "        d //= 10\n",
    "    return head\n",
    "\n",
    "l1 = make(1)\n",
    "l2 = make(99)\n",
    "Solution().addTwoNumbers(l1,l2)\n",
    "l1.print()"
   ]
  },
  {
   "cell_type": "markdown",
   "metadata": {},
   "source": [
    "# 3. 无重复字符的最长子串\n",
    "给定一个字符串，请你找出其中不含有重复字符的 最长子串 的长度。\n",
    "\n",
    "示例 1:\n",
    "输入: \"abcabcbb\"\n",
    "输出: 3 \n",
    "解释: 因为无重复字符的最长子串是 \"abc\"，所以其长度为 3。\n",
    "示例 2:\n",
    "输入: \"bbbbb\"\n",
    "输出: 1\n",
    "解释: 因为无重复字符的最长子串是 \"b\"，所以其长度为 1。\n",
    "示例 3:\n",
    "输入: \"pwwkew\"\n",
    "输出: 3\n",
    "解释: 因为无重复字符的最长子串是 \"wke\"，所以其长度为 3。\n",
    "     请注意，你的答案必须是 子串 的长度，\"pwke\" 是一个子序列，不是子串。"
   ]
  },
  {
   "cell_type": "code",
   "execution_count": 36,
   "metadata": {},
   "outputs": [
    {
     "data": {
      "text/plain": [
       "3"
      ]
     },
     "execution_count": 36,
     "metadata": {},
     "output_type": "execute_result"
    }
   ],
   "source": [
    "class Solution:\n",
    "    def lengthOfLongestSubstring(self, s):\n",
    "        \"\"\"\n",
    "        :type s: str\n",
    "        :rtype: int\n",
    "        \"\"\"\n",
    "        max_len, start = 0, 0\n",
    "        alphabet_size = len(set(s))\n",
    "        loc = {}\n",
    "        for i, c in enumerate(s):\n",
    "            if c in loc and start<=loc[c]:\n",
    "                start = loc[c]+1\n",
    "            else:\n",
    "                max_len = i-start+1 if i-start+1>max_len else max_len\n",
    "                if max_len == alphabet_size:    #剪枝\n",
    "                    return max_len\n",
    "            loc[c] = i\n",
    "        return max_len\n",
    "    \n",
    "Solution().lengthOfLongestSubstring('pwwkew')"
   ]
  },
  {
   "cell_type": "markdown",
   "metadata": {},
   "source": [
    "# 4. 寻找两个有序数组的中位数\n",
    "给定两个大小为 m 和 n 的有序数组 nums1 和 nums2。\n",
    "\n",
    "请你找出这两个有序数组的中位数，并且要求算法的时间复杂度为 O(log(m + n))。\n",
    "\n",
    "你可以假设 nums1 和 nums2 不会同时为空。\n",
    "\n",
    "示例 1:\n",
    "nums1 = [1, 3]\n",
    "nums2 = [2]\n",
    "则中位数是 2.0\n",
    "示例 2:\n",
    "nums1 = [1, 2]\n",
    "nums2 = [3, 4]\n",
    "则中位数是 (2 + 3)/2 = 2.5"
   ]
  },
  {
   "cell_type": "code",
   "execution_count": 61,
   "metadata": {},
   "outputs": [
    {
     "name": "stdout",
     "output_type": "stream",
     "text": [
      "5.5\n"
     ]
    }
   ],
   "source": [
    "class Solution:\n",
    "    def findMedianSortedArrays(self, nums1, nums2):\n",
    "        \"\"\"\n",
    "        :type nums1: List[int]\n",
    "        :type nums2: List[int]\n",
    "        :rtype: float\n",
    "        \"\"\"\n",
    "#         nums3 = sorted(nums1+nums2)\n",
    "#         l = len(nums3)\n",
    "#         return nums3[l//2] if l&1 else (nums3[l//2-1]+nums3[l//2])/2\n",
    "        l1, l2 = len(nums1), len(nums2)\n",
    "        if l1>l2:\n",
    "            nums1, nums2, l1, l2 = nums2, nums1, l2, l1\n",
    "        i_min, i_max, mid = 0, l1, (l1+l2+1)//2\n",
    "        while i_min <= i_max:\n",
    "            i = (i_min+i_max)//2\n",
    "            j = mid - i\n",
    "            if i>0 and nums1[i-1]>nums2[j]:\n",
    "                i_max = i-1\n",
    "            elif i<l1 and nums1[i]<nums2[j-1]:\n",
    "                i_min = i+1\n",
    "            else:\n",
    "                if i==0: left = nums2[j-1]\n",
    "                elif j==0: left = nums1[i-1]\n",
    "                else: left = max(nums1[i-1], nums2[j-1])\n",
    "                \n",
    "                if (l1+l2)&1 == 1:\n",
    "                    return left\n",
    "                \n",
    "                if i==l1: right = nums2[j]\n",
    "                elif j==l2: right = nums1[i]\n",
    "                else: right = min(nums1[i], nums2[j])\n",
    "                \n",
    "                return (left+right)/2\n",
    "                    \n",
    "print(Solution().findMedianSortedArrays([1,3,5,7], [4,6,8,10]))"
   ]
  },
  {
   "cell_type": "markdown",
   "metadata": {},
   "source": [
    "# 5. 最长回文子串\n",
    "给定一个字符串 s，找到 s 中最长的回文子串。你可以假设 s 的最大长度为 1000。\n",
    "\n",
    "示例 1：\n",
    "\n",
    "输入: \"babad\"\n",
    "输出: \"bab\"\n",
    "注意: \"aba\" 也是一个有效答案。\n",
    "示例 2：\n",
    "\n",
    "输入: \"cbbd\"\n",
    "输出: \"bb\""
   ]
  },
  {
   "cell_type": "code",
   "execution_count": 136,
   "metadata": {},
   "outputs": [
    {
     "data": {
      "text/plain": [
       "'illi'"
      ]
     },
     "execution_count": 136,
     "metadata": {},
     "output_type": "execute_result"
    }
   ],
   "source": [
    "class Solution:\n",
    "    def longestPalindrome(self, s):\n",
    "        \"\"\"\n",
    "        :type s: str\n",
    "        :rtype: str\n",
    "        \"\"\"\n",
    "        if s == '': return ''\n",
    "        n, max_len, st, ed = len(s), 1, 0, 0\n",
    "        if s[0:n//2] == s[n-1 : n-(n//2)-1 : -1]: return s\n",
    "        i = 1\n",
    "        while i < n:\n",
    "            if i >= (max_len+1)//2*2:\n",
    "#                 print(max_len, i,1,s[i-(max_len+1)//2*2 : i-(max_len+1)//2] , s[i : i-(max_len+1)//2 : -1])\n",
    "                if s[i-(max_len+1)//2*2 : i-(max_len+1)//2] == s[i : i-(max_len+1)//2 : -1]:\n",
    "                    max_len, st, ed = (max_len+1)//2*2+1, i-(max_len+1)//2*2, i\n",
    "            if i >= max_len//2*2+1:\n",
    "#                 print(max_len, i ,0,s[i-max_len//2*2-1 : i-max_len//2] , s[i : i-max_len//2-1 : -1])\n",
    "                if s[i-max_len//2*2-1 : i-max_len//2] == s[i : i-max_len//2-1 : -1]:\n",
    "                    max_len, st, ed = max_len//2*2+2, i-max_len//2*2-1, i\n",
    "            i += 1\n",
    "        return s[st:ed+1]\n",
    "    \n",
    "Solution().longestPalindrome('yoyaillib')"
   ]
  },
  {
   "cell_type": "code",
   "execution_count": 97,
   "metadata": {},
   "outputs": [
    {
     "data": {
      "text/plain": [
       "'f'"
      ]
     },
     "execution_count": 97,
     "metadata": {},
     "output_type": "execute_result"
    }
   ],
   "source": [
    "a = \"asdf\"\n",
    "a[3:2 : -1]"
   ]
  },
  {
   "cell_type": "code",
   "execution_count": null,
   "metadata": {},
   "outputs": [],
   "source": []
  },
  {
   "cell_type": "code",
   "execution_count": null,
   "metadata": {},
   "outputs": [],
   "source": []
  }
 ],
 "metadata": {
  "kernelspec": {
   "display_name": "Python 3",
   "language": "python",
   "name": "python3"
  },
  "language_info": {
   "codemirror_mode": {
    "name": "ipython",
    "version": 3
   },
   "file_extension": ".py",
   "mimetype": "text/x-python",
   "name": "python",
   "nbconvert_exporter": "python",
   "pygments_lexer": "ipython3",
   "version": "3.6.5"
  }
 },
 "nbformat": 4,
 "nbformat_minor": 2
}
